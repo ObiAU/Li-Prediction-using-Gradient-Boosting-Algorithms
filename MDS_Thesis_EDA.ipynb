{
  "nbformat": 4,
  "nbformat_minor": 0,
  "metadata": {
    "colab": {
      "provenance": [],
      "authorship_tag": "ABX9TyOyx63ki4H+4kIUTzk8Xu2t",
      "include_colab_link": true
    },
    "kernelspec": {
      "name": "python3",
      "display_name": "Python 3"
    },
    "language_info": {
      "name": "python"
    }
  },
  "cells": [
    {
      "cell_type": "markdown",
      "metadata": {
        "id": "view-in-github",
        "colab_type": "text"
      },
      "source": [
        "<a href=\"https://colab.research.google.com/github/ObiAU/MDS-Code/blob/main/MDS_Thesis_EDA.ipynb\" target=\"_parent\"><img src=\"https://colab.research.google.com/assets/colab-badge.svg\" alt=\"Open In Colab\"/></a>"
      ]
    },
    {
      "cell_type": "code",
      "execution_count": null,
      "metadata": {
        "id": "H72qheHbAubV"
      },
      "outputs": [],
      "source": [
        "import tensorflow as tf\n",
        "import matplotlib.pyplot as plt\n",
        "import numpy as np\n",
        "import pandas as pd\n",
        "import random\n",
        "from scipy.stats import chi2_contingency\n",
        "from sklearn.model_selection import train_test_split\n",
        "from tensorflow.keras.optimizers import RMSprop\n",
        "from sklearn.ensemble import RandomForestClassifier\n",
        "from sklearn.metrics import confusion_matrix\n",
        "from sklearn.metrics import accuracy_score, precision_score, recall_score, f1_score\n",
        "import seaborn as sns\n",
        "from sklearn.preprocessing import MinMaxScaler, StandardScaler\n",
        "from sklearn.impute import KNNImputer, SimpleImputer\n",
        "from sklearn.ensemble import RandomForestRegressor\n",
        "import missingno as msno\n",
        "from sklearn.decomposition import PCA\n",
        "from sklearn.model_selection import train_test_split\n",
        "from sklearn.linear_model import LinearRegression\n",
        "from sklearn.metrics import mean_squared_error"
      ]
    },
    {
      "cell_type": "code",
      "source": [
        "# We can update this as we go\n",
        "non_relevant = ['AGE(KA)', 'AGE(MA)', 'CITATION', 'AR36(CCMSTP/G)',\n",
        "'AR39(CCMSTP/G)', 'AR39(MOL/G)', 'AR40(AT/G)',\n",
        "'AR40(CCMSTP/G)', 'AR40(MOL/G)', 'AR40(PPM)', 'AR40(PPB)',\n",
        "'HE3(CCMSTP/G)', 'HE4(CCMSTP/G)', 'K40(PPM)',\n",
        "'NE20(CCMSTP/G)', 'CA42(PPM)', 'CA43(PPM)', 'GE73(PPM)',\n",
        "'GE74(PPM)', 'KR84(CCMSTP/G)', 'MO95(PPM)', 'MO97(PPM)',\n",
        "'MO98(PPM)', 'MO100(PPM)', 'XE132(CCMSTP/G)', 'RA226_ACT(BQ/KG)',\n",
        "'ND143_ND144','EPSILON_ND','EPSILON_ND_INI','SM147_ND144',\n",
        "'SR87_SR86', 'RB87_SR86', 'PB206_PB204','PB207_PB204',\n",
        "'PB207_PB206', 'PB208_PB204', 'PB208_PB206','HF176_HF177', 'LU176_HF177',\n",
        "'HE4_HE3', 'K40_AR36','K40_CA44', 'AR36_AR38', 'AR36_AR39',\n",
        "'AR36_AR40','AR37_AR39', 'AR37_AR40','AR38_AR36', 'AR38_AR39', 'AR38_AR40',\n",
        "'AR39_AR36','AR39_AR40', 'AR40_AR36', 'AR40_AR38', 'AR40_AR39', 'AR40_K40', 'PB207_U235',\n",
        "'PB210_TH230_ACT', 'RA226_TH230_ACT', 'TH230_TH232_ACT', 'TH230_U238_ACT', 'TH232_PB204',\n",
        "'TH232_PB208', 'TH232_U238', 'U234_U238_ACT','U235_PB204', 'U238_PB204', 'U238_PB206',\n",
        "'U238_TH230_ACT', 'U238_TH232_ACT', 'N2(MOL/G)', 'D7LI(VS LSVEC)', 'D7LI(VS NBS8545)',\n",
        "'D7LI(VS IRMM-016)', 'D11B(VS NBS951)', 'B11_B10', 'D13C(VS VPDB)', 'D15N(PER MIL)',\n",
        "'D18O(PER MIL)', 'D18O(VS SMOW)', 'D18O(VS VSMOW)', 'D25MG(VS DSM3)', 'D26MG(VS DSM3)',\n",
        "'CA40_CA44', 'D41K(VS SRM3141A)', 'D44_40CA(VS SRM915A)', 'D44_42CA(VS SRM915A)',\n",
        "'D49TI(VS OL-TI)', 'D56FE(VS IRMM-014)', 'D57FE(VS IRMM-014)', 'D60NI(VS NBS986)',\n",
        "'D66ZN(VS JMC3-0749)', 'D68ZN(VS JMC3-0749)', 'D98_95MO(PER MIL)', 'D98MO(VS NIST3134)',\n",
        "'D98_95MO(VS NIST3134)', 'D137_134BA(VS SRM3104A)', 'D138_134BA(VS SRM3104A)',\n",
        "'DD(PER MIL)', 'DD(VS SMOW)', 'DD(VS VSMOW)', 'SM2O3(WT%)', 'EU2O3(WT%)',\n",
        "'GD2O3(WT%)','DY2O3(WT%)','SO2(WT%)','SO3(WT%)','S(WT%)','H2S(WT%)','LOI(WT%)',\n",
        "'O(WT%)', 'YB2O3(WT%)', 'PR2O3(WT%)', 'AS2O3(WT%)', 'CH4(WT%)','O2(WT%)',\n",
        "'CO(WT%)', 'H2O(WT%)', 'H2OP(WT%)', 'H2OM(WT%)','CO2(WT%)', 'OH(WT%)',\n",
        "'HE3(CCMSTP/G)', 'HE4(CCMSTP/G)', 'NE20(CCMSTP/G)', 'AR36(CCMSTP/G)',\n",
        "'AR39(CCMSTP/G)', 'AR39(MOL/G)', 'AR40(AT/G)', 'AR40(CCMSTP/G)', 'AR40(MOL/G)',\n",
        "'AR40(PPM)', 'AR40(PPB)', 'K40(PPM)', 'CA42(PPM)', 'CA43(PPM)', 'GE73(PPM)',\n",
        "'GE74(PPM)', 'KR84(CCMSTP/G)', 'MO95(PPM)', 'MO97(PPM)', 'MO98(PPM)',\n",
        "'MO100(PPM)', 'XE132(CCMSTP/G)', 'ALBITE(MOL%)', 'ANORTHITE(MOL%)', 'ANNITE(MOL%)',\n",
        "'ENSTATITE(MOL%)', 'FERROSILITE(MOL%)', 'MARGARITE(MOL%)','MUSCOVITE(MOL%)',\n",
        "'ORTHOCLASE(MOL%)', 'PARAGONITE(MOL%)','PHLOGOPITE(MOL%)', 'WOLLASTONITE(MOL%)',\n",
        "'N(PPM)', 'S(PPM)', 'BR(PPM)', 'GRAIN SIZE', 'SAMPLE NAME']\n",
        "\n",
        "# You can scrap AJ-AN inclusive, AU, BR, CB-CI inclusive and CP.\n",
        "# Other elements that won’t be of interest for your regression include BS-BV, CA"
      ],
      "metadata": {
        "id": "Aa2-csiDBC4a"
      },
      "execution_count": null,
      "outputs": []
    },
    {
      "cell_type": "code",
      "source": [
        "ini = pd.read_excel('FULL_GEOROC_2022_12_SGFTFN_MICA.xlsx')\n",
        "# Drop Non-Relevant Columns\n",
        "df = ini.drop(non_relevant, axis = 1)\n",
        "df.columns"
      ],
      "metadata": {
        "id": "KdFVzN0FA3c9"
      },
      "execution_count": null,
      "outputs": []
    },
    {
      "cell_type": "markdown",
      "source": [
        "####################################################################################\n",
        "\n",
        "# INITIAL EDA"
      ],
      "metadata": {
        "id": "sFA-FK-iVkXX"
      }
    },
    {
      "cell_type": "code",
      "source": [
        "iMajor = ['SIO2(WT%)', 'TIO2(WT%)', 'AL2O3(WT%)', 'FEO(WT%)',\n",
        "         'MNO(WT%)', 'MGO(WT%)', 'CAO(WT%)', 'NA2O(WT%)',\n",
        "         'K2O(WT%)', 'P2O5(WT%)']\n",
        "\n",
        "iTrace = [\n",
        " 'F(PPM)','CL(PPM)','SC(PPM)','TI(PPM)','V(PPM)',\n",
        " 'CR(PPM)', 'CO(PPM)', 'NI(PPM)', 'CU(PPM)', 'ZN(PPM)', 'GA(PPM)',\n",
        "'RB(PPM)', 'SR(PPM)',\n",
        " 'Y(PPM)', 'ZR(PPM)', 'NB(PPM)', 'MO(PPM)', 'SN(PPM)',\n",
        "  'CS(PPM)', 'BA(PPM)',\n",
        " 'LA(PPM)', 'CE(PPM)', 'PR(PPM)', 'ND(PPM)', 'SM(PPM)', 'EU(PPM)',\n",
        " 'GD(PPM)', 'TB(PPM)', 'DY(PPM)', 'HO(PPM)', 'ER(PPM)', 'TM(PPM)',\n",
        " 'YB(PPM)', 'LU(PPM)', 'HF(PPM)', 'TA(PPM)', 'W(PPM)',\n",
        "         'PB(PPM)', 'TH(PPM)', 'U(PPM)', 'N(PPM)', 'S(PPM)', 'BR(PPM)',]\n",
        "\n",
        "iCategorical = ['TECTONIC SETTING', 'LOCATION',\n",
        "'LAND/SEA (SAMPLING)', 'ROCK NAME', 'MINERAL',\n",
        "'PRIMARY/SECONDARY', 'CRYSTAL', 'RIM/CORE (MINERAL GRAINS)','ROCK TEXTURE','ALTERATION',\n",
        "'LOCATION COMMENT','SPOT']"
      ],
      "metadata": {
        "id": "55-5FMamVM1H"
      },
      "execution_count": null,
      "outputs": []
    },
    {
      "cell_type": "code",
      "source": [
        "# Drop all NaN Li rows\n",
        "ini = ini.dropna(subset=['LI(PPM)'])"
      ],
      "metadata": {
        "id": "hZsh_Xv5YlyY"
      },
      "execution_count": null,
      "outputs": []
    },
    {
      "cell_type": "markdown",
      "source": [
        "## Missingness Proportion"
      ],
      "metadata": {
        "id": "8SsF52cSVjP9"
      }
    },
    {
      "cell_type": "code",
      "source": [
        "# # Calculate the percentage of missing values\n",
        "# missing_major = ini[iMajor].isnull().mean() * 100\n",
        "\n",
        "# # Plot\n",
        "# plt.figure(figsize=(10, 5))\n",
        "# missing_major.sort_values(ascending=True).plot(kind='barh')\n",
        "# plt.title('Percentage of Missing Values in Major Element Subset')\n",
        "# plt.xlabel('Percentage')\n",
        "# plt.ylabel('Features')\n",
        "\n",
        "# plt.savefig('missing_values_major.png')\n",
        "# plt.show()"
      ],
      "metadata": {
        "id": "qaPfcD6_VB0X"
      },
      "execution_count": null,
      "outputs": []
    },
    {
      "cell_type": "code",
      "source": [
        "# # Calculate the percentage of missing values\n",
        "# missing_trace = ini[iTrace].isnull().mean() * 100\n",
        "\n",
        "# # Plot\n",
        "# plt.figure(figsize=(15, 10))\n",
        "# missing_trace.sort_values(ascending=True).plot(kind='barh')\n",
        "# plt.title('Percentage of Missing Values in Trace Element Subset')\n",
        "# plt.xlabel('Percentage')\n",
        "# plt.ylabel('Features')\n",
        "\n",
        "# # Save the figure\n",
        "# plt.savefig('missing_values_trace.png')\n",
        "\n",
        "# plt.show()"
      ],
      "metadata": {
        "id": "sYHRf60rVGgH"
      },
      "execution_count": null,
      "outputs": []
    },
    {
      "cell_type": "code",
      "source": [
        "# # Calculate the percentage of missing values\n",
        "# missing_categorical = ini[iCategorical].isnull().mean() * 100\n",
        "\n",
        "# # Plot\n",
        "# plt.figure(figsize=(10, 5))\n",
        "# missing_categorical.sort_values(ascending=True).plot(kind='barh')\n",
        "# plt.title('Percentage of Missing Values in Categorical Feature Subset')\n",
        "# plt.xlabel('Percentage')\n",
        "# plt.ylabel('Features')\n",
        "\n",
        "# plt.tight_layout()\n",
        "# plt.savefig('missing_values_categorical.png')\n",
        "# plt.show()\n"
      ],
      "metadata": {
        "id": "EjyBHhI0VKXm"
      },
      "execution_count": null,
      "outputs": []
    },
    {
      "cell_type": "markdown",
      "source": [
        "## Missingness Patterns"
      ],
      "metadata": {
        "id": "yaL6sElvVdDe"
      }
    },
    {
      "cell_type": "code",
      "source": [
        "# # iMajor Element Subset\n",
        "# plt.figure(figsize=(10, 8))  # Adjust these dimensions as needed\n",
        "# msno.matrix(ini[iMajor])\n",
        "# plt.title('Missingness Heatmap for Major Element Subset')\n",
        "# plt.savefig('missing_heatmap_iMajor.png', bbox_inches='tight')\n",
        "# plt.show()\n",
        "\n",
        "# # msno.dendrogram(ini[iMajor])\n",
        "# # plt.title('Missingness Dendrogram for Major Element Subset')\n",
        "# # plt.tight_layout()\n",
        "# # plt.savefig('missing_dendrogram_iMajor.png')\n",
        "# # plt.show()"
      ],
      "metadata": {
        "id": "krIPwhnEVbuC"
      },
      "execution_count": null,
      "outputs": []
    },
    {
      "cell_type": "code",
      "source": [
        "# # iTrace Element Subset\n",
        "# msno.matrix(ini[iTrace])\n",
        "# plt.title('Missingness Heatmap for Trace Element Subset')\n",
        "# plt.tight_layout()\n",
        "# plt.savefig('missing_heatmap_iTrace.png')\n",
        "# plt.show()\n",
        "\n",
        "# msno.dendrogram(ini[iTrace])\n",
        "# plt.title('Missingness Dendrogram for Trace Element Subset')\n",
        "# plt.tight_layout()\n",
        "# plt.savefig('missing_dendrogram_iTrace.png')\n",
        "# plt.show()"
      ],
      "metadata": {
        "id": "rGDdFJAtWKWa"
      },
      "execution_count": null,
      "outputs": []
    },
    {
      "cell_type": "code",
      "source": [
        "# # iCategorical Feature Subset\n",
        "# msno.matrix(ini[iCategorical])\n",
        "# plt.title('Missingness Heatmap for Categorical Feature Subset')\n",
        "# plt.tight_layout()\n",
        "# plt.savefig('missing_heatmap_iCategorical.png', bbox_inches='tight')\n",
        "# plt.show()\n",
        "\n",
        "# # msno.dendrogram(ini[iCategorical])\n",
        "# # plt.title('Missingness Dendrogram for Categorical Feature Subset')\n",
        "# # plt.tight_layout()\n",
        "# # plt.savefig('missing_dendrogram_iCategorical.png')\n",
        "# # plt.show()"
      ],
      "metadata": {
        "id": "Pa1f0chXWPry"
      },
      "execution_count": null,
      "outputs": []
    },
    {
      "cell_type": "markdown",
      "source": [
        "#########################################################################"
      ],
      "metadata": {
        "id": "FOcv9FGEVqmN"
      }
    },
    {
      "cell_type": "code",
      "source": [
        "excluded = ['CELADONITE', 'GLAUCONITE', 'HYDROMICA', 'HYDROMUSCOVITE',\n",
        "            'MARGARITE', 'SERICITE', 'YANGZHUMINGITE']\n",
        "extract = ~df['MINERAL'].isin(excluded)\n",
        "df = df[extract]"
      ],
      "metadata": {
        "id": "BYAv1EixBGt5"
      },
      "execution_count": null,
      "outputs": []
    },
    {
      "cell_type": "code",
      "source": [
        "# We will write mol, wt%, and ppm calculation functions here\n",
        "def wt2ppm(item): # to ppm\n",
        "  return item * 10000\n",
        "\n",
        "def ppm2wt(item): # to WT%\n",
        "  return item / 10000\n",
        "\n",
        "def ppb2m(item): # to ppm\n",
        "  return item / 1000\n",
        "\n",
        "def ppb2wt(item): # to WT%\n",
        "  return item / 10000000\n",
        "\n",
        "# Functions to convert materials from their oxide form to elements\n",
        "def ZRO2(item):\n",
        "  return item*(91.2/(91.2 + 32))\n",
        "\n",
        "def HFO2(item):\n",
        "  return item*(178.5/(178.5 + 32))\n",
        "\n",
        "def THO2(item):\n",
        "  return item*(232/(232 + 32))\n",
        "\n",
        "def UO2(item):\n",
        "  return item*(238/(238 + 32))\n",
        "\n",
        "def UO3(item):\n",
        "  return item*(238/(238 + 48))\n",
        "\n",
        "def CR2O3(item):\n",
        "  return item*((2*52)/(2*52 + 48))\n",
        "\n",
        "def LA2O3(item):\n",
        "  return item*((2*138.9)/(2*138.9 + 48))\n",
        "\n",
        "def CE2O3(item):\n",
        "  return item*((2*140.1)/(2*140.1 + 48))\n",
        "\n",
        "def ND2O3(item):\n",
        "  return item*((2*144.2)/(2*144.2 + 48))\n",
        "\n",
        "def Y2O3(item):\n",
        "  return item*((2*88.9)/(2*88.9 + 48))\n",
        "\n",
        "def V2O3(item):\n",
        "  return item*((2*50.9)/(2*50.9 + 48))\n",
        "\n",
        "def V2O5(item):\n",
        "  return item*((2*50.9)/(2*50.9 + 80))\n",
        "\n",
        "def NB2O3(item):\n",
        "  return item*((2*92.9)/(2*92.9 + 48))\n",
        "\n",
        "def NB2O5(item):\n",
        "  return item*((2*92.9)/(2*92.9 + 80))\n",
        "\n",
        "def TA2O5(item):\n",
        "  return item*((2*180.9)/(2*180.9 + 80))\n",
        "\n",
        "def WO3(item):\n",
        "  return item*((183.8)/(183.8 + 48))\n",
        "\n",
        "def BAO(item):\n",
        "  return item*(137.3/(137.3 + 16))\n",
        "\n",
        "def SRO(item):\n",
        "  return item*(87.6/(87.6 + 16))\n",
        "\n",
        "def PBO(item):\n",
        "  return item*(207.2/(207.2 + 16))\n",
        "\n",
        "def SNO2(item):\n",
        "  return item*(118.7/(118.7 + 32))\n",
        "\n",
        "def NIO(item):\n",
        "  return item*(58.7/(58.7 + 16))\n",
        "\n",
        "def ZNO(item):\n",
        "  return item*(65.4/(65.4 + 16))\n",
        "\n",
        "def COO(item):\n",
        "  return item*(58.9/(58.9 + 16))\n",
        "\n",
        "def CUO(item):\n",
        "  return item*(63.5/(63.5 + 16))\n",
        "\n",
        "def CS2O(item):\n",
        "  return item*((2*132.9)/(2*132.9 + 16))\n",
        "\n",
        "def RB2O(item):\n",
        "  return item*((2*85.5)/(2*85.5 + 16))\n",
        "\n",
        "def LI2O(item):\n",
        "  return item*((2*6.9)/(2*6.9 + 16))\n",
        "\n",
        "def F2O(item):\n",
        "  return item*((2*19)/(2*19 + 16))\n",
        "\n",
        "def CL2O(item): # BZ\n",
        "  return item*((2*35.5)/(2*35.5 + 16))\n",
        "\n",
        "\n",
        "##############################################################################\n",
        "\n",
        "# You can scrap AJ-AN inclusive, AU, BR, CA-CI inclusive and CP.\n",
        "# Other elements that won’t be of interest for your regression include BS-BV\n",
        "# Functions to convert certain elements to their oxide form\n",
        "# Elements that should be left as oxide include SiO2, TiO2,\n",
        "# Al2O3, FeO (or Fe2O3), MnO, MgO, CaO, Na2O, K2O, P2O5, H2O (if present).\n",
        "\n",
        "# SiO2\n",
        "def Si(revert):\n",
        "  return revert*((28.1 + 32)/28.1)\n",
        "\n",
        "# Al2O3\n",
        "def Al(revert):\n",
        "  return revert*((2*27 + 48)/(2*27))\n",
        "\n",
        "# Fe2O3 to FeO\n",
        "def FeO(revert):\n",
        "  return revert*((2*(55.8 + 16))/(2*55.8 + 48))\n",
        "\n",
        "# Fe to FeO\n",
        "def Fe(revert):\n",
        "  return revert*((55.8 + 16)/(58.8))\n",
        "\n",
        "# MgO\n",
        "def Mg(revert):\n",
        "  return revert*((24.3 + 16)/24.3)\n",
        "\n",
        "# Na2O\n",
        "def Na(revert):\n",
        "  return revert*((2*23 + 16)/(2*23))\n",
        "\n",
        "# K2O\n",
        "def K(revert):\n",
        "  return revert*((2*39.1 + 16)/(2*39.1))\n",
        "\n",
        "# P2O5\n",
        "def P(revert):\n",
        "  return revert*((2*31 + 80)/(2*31))\n",
        "\n",
        "# CaO\n",
        "def Ca(revert):\n",
        "  return revert*((40.1 + 16)/40.1)\n",
        "\n",
        "# MnO\n",
        "def Mn(revert):\n",
        "  return revert*((54.9 + 16)/54.9)\n",
        "\n",
        "def convert_mixed_value(value):\n",
        "    if isinstance(value, (float, int)):\n",
        "        return float(value)\n",
        "    if \"\\\\\" in value:\n",
        "        parts = value.split('\\\\')\n",
        "        number = parts[0].strip()\n",
        "        return float(number)\n",
        "    else:\n",
        "        return float(value)\n"
      ],
      "metadata": {
        "id": "X9TwvHb5BPlT"
      },
      "execution_count": null,
      "outputs": []
    },
    {
      "cell_type": "code",
      "source": [
        "# Merge FeOT and FeO\n",
        "df['FEO(WT%)'] = df['FEOT(WT%)'].fillna(df['FEO(WT%)'])\n",
        "# Merge Fe2O3T and Fe2O3\n",
        "df['FE2O3(WT%)'] = df['FE2O3T(WT%)'].fillna(df['FE2O3(WT%)'])"
      ],
      "metadata": {
        "id": "WMebqOb1BX0C"
      },
      "execution_count": null,
      "outputs": []
    },
    {
      "cell_type": "code",
      "source": [
        "_numericals = ['SIO2(WT%)', 'TIO2(WT%)', 'AL2O3(WT%)', 'FEO(WT%)', 'CAO(WT%)',\n",
        "    'MGO(WT%)', 'MNO(WT%)', 'K2O(WT%)', 'NA2O(WT%)', 'P2O5(WT%)', 'LI(PPM)',\n",
        "    'BE(PPM)', 'B(PPM)', 'F(PPM)', 'CL(PPM)', 'SC(PPM)',\n",
        "    'TI(PPM)', 'V(PPM)', 'CR(PPM)', 'CO(PPM)', 'NI(PPM)', 'CU(PPM)',\n",
        "    'ZN(PPM)', 'GA(PPM)', 'GE(PPM)', 'AS(PPM)', 'SE(PPM)',\n",
        "    'RB(PPM)', 'SR(PPM)', 'Y(PPM)', 'ZR(PPM)', 'NB(PPM)', 'MO(PPM)',\n",
        "    'AG(PPM)', 'CD(PPM)', 'IN(PPM)', 'SN(PPM)', 'SB(PPM)', 'TE(PPM)',\n",
        "    'CS(PPM)', 'BA(PPM)', 'LA(PPM)', 'CE(PPM)', 'PR(PPM)', 'ND(PPM)',\n",
        "    'SM(PPM)', 'EU(PPM)', 'GD(PPM)', 'TB(PPM)', 'DY(PPM)', 'HO(PPM)',\n",
        "    'ER(PPM)', 'TM(PPM)', 'YB(PPM)', 'LU(PPM)', 'HF(PPM)', 'TA(PPM)',\n",
        "    'W(PPM)', 'AU(PPM)', 'HG(PPM)', 'TL(PPM)', 'PB(PPM)', 'BI(PPM)',\n",
        "    'TH(PPM)', 'U(PPM)', 'CR2O3(WT%)', 'BAO(WT%)', 'NIO(WT%)',\n",
        "            'LI2O(WT%)', 'RB2O(WT%)', 'K(WT%)']\n",
        "for col in _numericals:\n",
        "  df[col] = df[col].apply(convert_mixed_value)"
      ],
      "metadata": {
        "id": "qht3cLlSQjAc"
      },
      "execution_count": null,
      "outputs": []
    },
    {
      "cell_type": "code",
      "source": [
        "# Here, we convert each relevant column and will merge them in later code cells\n",
        "\n",
        "# We use .pipe() to chain functions\n",
        "# Converting WT% to WT% Oxides\n",
        "# SiO2\n",
        "df['SI(WT%)'] = df['SI(WT%)'].apply(Si)\n",
        "df['SI(PPM)'] = df['SI(PPM)'].pipe(ppm2wt).pipe(Si)\n",
        "\n",
        "# Al2O3\n",
        "df['AL(WT%)'] = df['AL(WT%)'].apply(Al)\n",
        "df['AL(PPM)'] = df['AL(PPM)'].pipe(ppm2wt).pipe(Al)\n",
        "\n",
        "# Fe2O3 (FeOT and Fe2O3T are the only ones measured with the T method)\n",
        "df['FE2O3(WT%)'] = df['FE2O3(WT%)'].apply(FeO)\n",
        "# Fe\n",
        "df['FE(WT%)'] = df['FE(WT%)'].apply(Fe)\n",
        "df['FE(PPM)'] = df['FE(PPM)'].pipe(ppm2wt).pipe(Fe)\n",
        "\n",
        "# MnO\n",
        "df['MN(PPM)'] = df['MN(PPM)'].pipe(ppm2wt).pipe(Mn)\n",
        "\n",
        "# MgO\n",
        "df['MG(WT%)'] = df['MG(WT%)'].apply(Mg)\n",
        "df['MG(PPM)'] = df['MG(PPM)'].pipe(ppm2wt).pipe(Mg)\n",
        "\n",
        "# CaO\n",
        "df['CA(PPM)'] = df['CA(PPM)'].pipe(ppm2wt).pipe(Ca)\n",
        "\n",
        "# Na2O\n",
        "df['NA(WT%)'] = df['NA(WT%)'].apply(Na)\n",
        "df['NA(PPM)'] = df['NA(PPM)'].pipe(ppm2wt).pipe(Na)\n",
        "\n",
        "# K2O\n",
        "df['K(WT%)'] = df['K(WT%)'].apply(K)\n",
        "df['K(PPM)'] = df['K(PPM)'].pipe(ppm2wt).pipe(K)\n",
        "\n",
        "# P2O5\n",
        "df['P(PPM)'] = df['P(PPM)'].pipe(ppm2wt).pipe(P)\n",
        "\n",
        "# Trace elements; those in lower concentrations, should be left as ppm\n",
        "# MAJOR ELEMENTS - SiO2, TiO2, Al2O3, FeO, MnO, MgO, CaO, Na2O, K2O, P2O5\n",
        "\n",
        "# ZrO2 // ZR(PPM) - EP\n",
        "df['ZRO2(WT%)'] = df['ZRO2(WT%)'].pipe(ZRO2).pipe(wt2ppm)\n",
        "\n",
        "# HFO2 // HF(PPM) - FT\n",
        "df['HFO2(WT%)'] = df['HFO2(WT%)'].pipe(HFO2).pipe(wt2ppm)\n",
        "\n",
        "# THO2 // TH(PPM) - GD\n",
        "df['THO2(WT%)'] = df['THO2(WT%)'].pipe(THO2).pipe(wt2ppm)\n",
        "\n",
        "# UO2, UO3 // U(PPM), U(PPB) - GE, GF\n",
        "df['UO2(WT%)'] = df['UO2(WT%)'].pipe(UO2).pipe(wt2ppm)\n",
        "df['UO3(WT%)'] = df['UO3(WT%)'].pipe(UO3).pipe(wt2ppm)\n",
        "df['U(PPB)'] = df['U(PPB)'].pipe(ppb2m)\n",
        "\n",
        "# CR2O3 // CR(PPM) - DX\n",
        "df['CR2O3(WT%)'] = df['CR2O3(WT%)'].pipe(CR2O3).pipe(wt2ppm)\n",
        "df['CR(WT%)'] = df['CR(WT%)'].pipe(wt2ppm)\n",
        "\n",
        "# LA2O3 // LA(PPM) - FF\n",
        "df['LA2O3(WT%)'] = df['LA2O3(WT%)'].pipe(LA2O3).pipe(wt2ppm)\n",
        "\n",
        "# CE2O3 // CE(PPM) - FG\n",
        "df['CE2O3(WT%)'] = df['CE2O3(WT%)'].pipe(CE2O3).pipe(wt2ppm)\n",
        "\n",
        "# ND2O3 // ND(PPM) - FI\n",
        "df['ND2O3(WT%)'] = df['ND2O3(WT%)'].pipe(ND2O3).pipe(wt2ppm)\n",
        "\n",
        "# Y2O3 // Y(PPM) - EO\n",
        "df['Y2O3(WT%)'] = df['Y2O3(WT%)'].pipe(Y2O3).pipe(wt2ppm)\n",
        "\n",
        "# V2O3, V2O5 // V(PPM) - DW\n",
        "df['V2O3(WT%)'] = df['V2O3(WT%)'].pipe(V2O3).pipe(wt2ppm)\n",
        "df['V2O5(WT%)'] = df['V2O3(WT%)'].pipe(V2O5).pipe(wt2ppm)\n",
        "\n",
        "# NB2O3, NB2O5 // NB(PPM) - EQ\n",
        "df['NB2O3(WT%)'] = df['NB2O3(WT%)'].pipe(NB2O3).pipe(wt2ppm)\n",
        "df['NB2O5(WT%)'] = df['NB2O3(WT%)'].pipe(NB2O5).pipe(wt2ppm)\n",
        "\n",
        "# TA2O5 // TA(PPM) - FU\n",
        "df['TA2O5(WT%)'] = df['TA2O5(WT%)'].pipe(TA2O5).pipe(wt2ppm)\n",
        "\n",
        "# WO3 // W(PPM) - FV\n",
        "df['WO3(WT%)'] = df['WO3(WT%)'].pipe(WO3).pipe(wt2ppm)\n",
        "\n",
        "# BAO // BA(PPM) - FE\n",
        "df['BAO(WT%)'] = df['BAO(WT%)'].pipe(BAO).pipe(wt2ppm)\n",
        "\n",
        "# SRO // SR(PPM) - EN\n",
        "df['SRO(WT%)'] = df['SRO(WT%)'].pipe(SRO).pipe(wt2ppm)\n",
        "\n",
        "# PBO // PB(PPM) - FZ\n",
        "df['PBO(WT%)'] = df['PBO(WT%)'].pipe(PBO).pipe(wt2ppm)\n",
        "df['PB(PPB)'] = df['PB(PPB)'].pipe(ppb2m)\n",
        "\n",
        "# SNO2 // SN(PPM) - EZ\n",
        "df['SNO2(WT%)'] = df['SNO2(WT%)'].pipe(SNO2).pipe(wt2ppm)\n",
        "\n",
        "# NIO // NI(PPM) - EB\n",
        "df['NIO(WT%)'] = df['NIO(WT%)'].pipe(NIO).pipe(wt2ppm)\n",
        "\n",
        "# ZNO // ZN(PPM) - ED\n",
        "df['ZNO(WT%)'] = df['ZNO(WT%)'].pipe(ZNO).pipe(wt2ppm)\n",
        "\n",
        "# COO // CO(PPM) - EA\n",
        "df['COO(WT%)'] = df['COO(WT%)'].pipe(COO).pipe(wt2ppm)\n",
        "\n",
        "# CUO // CU(PPM) - EC\n",
        "df['CUO(WT%)'] = df['CUO(WT%)'].pipe(CUO).pipe(wt2ppm)\n",
        "\n",
        "# CS2O // CS(PPM) - FD\n",
        "df['CS2O(WT%)'] = df['CS2O(WT%)'].pipe(CS2O).pipe(wt2ppm)\n",
        "\n",
        "# RB2O // RB(PPM) - EM\n",
        "df['RB2O(WT%)'] = df['RB2O(WT%)'].pipe(RB2O).pipe(wt2ppm)\n",
        "\n",
        "# LI2O // LI(PPM) - CT\n",
        "df['LI2O(WT%)'] = df['LI2O(WT%)'].pipe(LI2O).pipe(wt2ppm)\n",
        "\n",
        "# F2O // F(PPM) - CX\n",
        "df['F(WT%)'] = df['F(WT%)'].pipe(wt2ppm)\n",
        "df['F2O(WT%)'] = df['F2O(WT%)'].pipe(F2O).pipe(wt2ppm)\n",
        "\n",
        "# CL2O // CL(PPM) - DF\n",
        "df['CL(WT%)'] = df['CL(WT%)'].pipe(wt2ppm)\n",
        "df['CL2O(WT%)'] = df['CL2O(WT%)'].pipe(CL2O).pipe(wt2ppm)"
      ],
      "metadata": {
        "id": "z7bQ25dyBgQq"
      },
      "execution_count": null,
      "outputs": []
    },
    {
      "cell_type": "code",
      "source": [
        "# Oxides (We will leave major elements in WT% form)\n",
        "\n",
        "# SIO2\n",
        "df['SIO2(WT%)'] = df['SIO2(WT%)'].fillna(df['SI(PPM)']).fillna(df['SI(WT%)'])\n",
        "\n",
        "# AL2O3\n",
        "df['AL2O3(WT%)'] = df['AL2O3(WT%)'].fillna(df['AL(WT%)']).fillna(df['AL(PPM)'])\n",
        "\n",
        "# FEO\n",
        "df['FEO(WT%)'] = df['FEO(WT%)'].fillna(df['FE2O3(WT%)']).fillna(df['FE(WT%)']).fillna(df['FE(PPM)'])\n",
        "\n",
        "# MNO\n",
        "df['MNO(WT%)'] = df['MNO(WT%)'].fillna(df['MN(PPM)'])\n",
        "\n",
        "# MGO\n",
        "df['MGO(WT%)'] = df['MGO(WT%)'].fillna(df['MG(PPM)']).fillna(df['MG(WT%)'])\n",
        "\n",
        "# CAO\n",
        "df['CAO(WT%)'] = df['CAO(WT%)'].fillna(df['CA(PPM)'])\n",
        "\n",
        "# NA2O\n",
        "df['NA2O(WT%)'] = df['NA2O(WT%)'].fillna(df['NA(WT%)']).fillna(df['NA(PPM)'])\n",
        "\n",
        "# K20\n",
        "df['K2O(WT%)'] = df['K2O(WT%)'].fillna(df['K(WT%)']).fillna(df['K(PPM)'])\n",
        "\n",
        "# P2O5\n",
        "df['P2O5(WT%)'] = df['P2O5(WT%)'].fillna(df['P(PPM)'])\n",
        "\n",
        "# Trace elements should be left in ppm format\n",
        "\n",
        "# ZR\n",
        "df['ZR(PPM)'] = df['ZR(PPM)'].fillna(df['ZRO2(WT%)'])\n",
        "\n",
        "# HF\n",
        "df['HF(PPM)'] = df['HF(PPM)'].fillna(df['HFO2(WT%)'])\n",
        "\n",
        "# TH\n",
        "df['TH(PPM)'] = df['TH(PPM)'].fillna(df['THO2(WT%)'])\n",
        "\n",
        "# U\n",
        "df['U(PPM)'] = df['U(PPM)'].fillna(df['UO2(WT%)']).fillna(df['UO3(WT%)']).fillna(df['U(PPB)'])\n",
        "\n",
        "# CR\n",
        "df['CR(PPM)'] = df['CR(PPM)'].fillna(df['CR2O3(WT%)']).fillna(df['CR(WT%)'])\n",
        "\n",
        "# LA\n",
        "df['LA(PPM)'] = df['LA(PPM)'].fillna(df['LA2O3(WT%)'])\n",
        "\n",
        "# CE\n",
        "df['CE(PPM)'] = df['CE(PPM)'].fillna(df['CE2O3(WT%)'])\n",
        "\n",
        "# ND\n",
        "df['ND(PPM)'] = df['ND(PPM)'].fillna(df['ND2O3(WT%)'])\n",
        "\n",
        "# Y\n",
        "df['Y(PPM)'] = df['Y(PPM)'].fillna(df['Y2O3(WT%)'])\n",
        "\n",
        "# V\n",
        "df['V(PPM)'] = df['V(PPM)'].fillna(df['V2O3(WT%)']).fillna(df['V2O5(WT%)'])\n",
        "\n",
        "# NB\n",
        "df['NB(PPM)'] = df['NB(PPM)'].fillna(df['NB2O3(WT%)']).fillna(df['NB2O5(WT%)'])\n",
        "\n",
        "# TA\n",
        "df['TA(PPM)'] = df['TA(PPM)'].fillna(df['TA2O5(WT%)'])\n",
        "\n",
        "# W\n",
        "df['W(PPM)'] = df['W(PPM)'].fillna(df['WO3(WT%)'])\n",
        "\n",
        "# BA\n",
        "df['BA(PPM)'] = df['BA(PPM)'].fillna(df['BAO(WT%)'])\n",
        "\n",
        "# SR\n",
        "df['SR(PPM)'] = df['SR(PPM)'].fillna(df['SRO(WT%)'])\n",
        "\n",
        "# PB\n",
        "df['PB(PPM)'] = df['PB(PPM)'].fillna(df['PBO(WT%)']).fillna(df['PB(PPB)'])\n",
        "\n",
        "# SN\n",
        "df['SN(PPM)'] = df['SN(PPM)'].fillna(df['SNO2(WT%)'])\n",
        "\n",
        "# NI\n",
        "df['NI(PPM)'] = df['NI(PPM)'].fillna(df['NIO(WT%)'])\n",
        "\n",
        "# ZN\n",
        "df['ZN(PPM)'] = df['ZN(PPM)'].fillna(df['ZNO(WT%)'])\n",
        "\n",
        "# CO\n",
        "df['CO(PPM)'] = df['CO(PPM)'].fillna(df['COO(WT%)'])\n",
        "\n",
        "# CU\n",
        "df['CU(PPM)'] = df['CU(PPM)'].fillna(df['CUO(WT%)'])\n",
        "\n",
        "# CS\n",
        "df['CS(PPM)'] = df['CS(PPM)'].fillna(df['CS2O(WT%)'])\n",
        "\n",
        "# RB\n",
        "df['RB(PPM)'] = df['RB(PPM)'].fillna(df['RB2O(WT%)'])\n",
        "\n",
        "# LI\n",
        "df['LI(PPM)'] = df['LI(PPM)'].fillna(df['LI2O(WT%)'])\n",
        "\n",
        "# F\n",
        "df['F(PPM)'] = df['F(PPM)'].fillna(df['F(WT%)']).fillna(df['F2O(WT%)'])\n",
        "\n",
        "# CL\n",
        "df['CL(PPM)'] = df['CL(PPM)'].fillna(df['CL(WT%)']).fillna(df['CL2O(WT%)'])\n"
      ],
      "metadata": {
        "id": "wPTLdtfpBnx5"
      },
      "execution_count": null,
      "outputs": []
    },
    {
      "cell_type": "code",
      "source": [
        "postmerged = ['SI(WT%)', 'SI(PPM)', 'AL(WT%)', 'AL(PPM)', 'FE2O3(WT%)',\n",
        "              'FE2O3T(WT%)', 'FEOT(WT%)', 'MN(PPM)', 'MG(WT%)', 'MG(PPM)',\n",
        "              'CA(PPM)', 'NA(WT%)', 'NA(PPM)', 'K(WT%)', 'K(PPM)',\n",
        "              'P(PPM)', 'ZRO2(WT%)', 'HFO2(WT%)', 'THO2(WT%)', 'UO2(WT%)',\n",
        "              'UO3(WT%)', 'U(PPB)', 'CR2O3(WT%)', 'CR(WT%)', 'LA2O3(WT%)',\n",
        "              'CE2O3(WT%)', 'ND2O3(WT%)', 'Y2O3(WT%)', 'V2O3(WT%)', 'V2O5(WT%)',\n",
        "              'NB2O3(WT%)', 'NB2O5(WT%)', 'TA2O5(WT%)', 'WO3(WT%)', 'BAO(WT%)',\n",
        "              'SRO(WT%)', 'PBO(WT%)', 'PB(PPB)','SNO2(WT%)', 'NIO(WT%)',\n",
        "              'ZNO(WT%)', 'COO(WT%)', 'CUO(WT%)', 'CS2O(WT%)', 'RB2O(WT%)',\n",
        "              'LI2O(WT%)', 'F(WT%)', 'F2O(WT%)', 'CL(WT%)', 'CL2O(WT%)',\n",
        "              'FE(WT%)', 'FE(PPM)', 'AR(MOL/G)']\n",
        "\n",
        "df = df.drop(postmerged, axis = 1)\n",
        "df.columns"
      ],
      "metadata": {
        "id": "jGNgFfkCBsgc"
      },
      "execution_count": null,
      "outputs": []
    },
    {
      "cell_type": "code",
      "source": [
        "df = df.dropna(subset=['LI(PPM)'])\n",
        "df.reset_index(drop = True, inplace = True)"
      ],
      "metadata": {
        "id": "SG8RdbsSlONN"
      },
      "execution_count": null,
      "outputs": []
    },
    {
      "cell_type": "code",
      "source": [
        "# Categorize rock name\n",
        "def categorize_rock(item):\n",
        "  # if isinstance(item, float):\n",
        "  #   return item\n",
        "  if item == 'MONZOGRANITE':\n",
        "    return 'SYENITE'\n",
        "  elif item in ['RHYOLITE', 'RHYODACITE']:\n",
        "    return 'GRANITE'\n",
        "  elif 'GRANITE' in item:\n",
        "    return 'GRANITE'\n",
        "  elif item in ['APLITE', 'PEGMATITE', 'GREISEN']:\n",
        "    return 'GREISEN'\n",
        "  elif item in ['DACITE', 'TONALITE', 'TRONDHJEMITE']:\n",
        "    return 'GRANODIORITE'\n",
        "  elif 'GRANODIORITE' in item:\n",
        "    return 'GRANODIORITE'\n",
        "  elif 'DIORITE' in item:\n",
        "    return 'DIORITE'\n",
        "  elif item == 'ANDESITE':\n",
        "    return 'DIORITE'\n",
        "  elif 'GABBRO' in item:\n",
        "    return 'GABBRO'\n",
        "  elif 'SYENITE' in item:\n",
        "    return 'SYENITE'\n",
        "  elif item in ['MONZONITE', 'MELASYENITE', 'PHONOLITE', 'TRACHYTE']:\n",
        "    return 'SYENITE'\n",
        "  elif 'CARBONATITE' in item:\n",
        "    return 'CARBONATITE'\n",
        "  elif item in ['LAMPROPHYRE', 'VOGESITE', 'NEPHELINITE']:\n",
        "    return 'CARBONATITE'\n",
        "  elif 'PHLOGOPITE' in item:\n",
        "    return 'NOT GIVEN'\n",
        "  elif 'XENOLITH' in item:\n",
        "    return 'XENOLITH'\n",
        "  elif item in ['CLINOPYROXENITE', 'HARZBURGITE', 'WEHRLITE', 'ECLOGITE']:\n",
        "    return 'XENOLITH'\n",
        "  else:\n",
        "    return item\n",
        "\n",
        "df['ROCK NAME'] = df['ROCK NAME'].apply(categorize_rock)"
      ],
      "metadata": {
        "id": "wB8fcb1NE9rC"
      },
      "execution_count": null,
      "outputs": []
    },
    {
      "cell_type": "code",
      "source": [
        "def simplify_location(df, col):\n",
        "    df[col] = df[col].apply(lambda x: x.split('/')[0].strip())\n",
        "    return df\n",
        "\n",
        "df = simplify_location(df, 'LOCATION')"
      ],
      "metadata": {
        "id": "8Kglau4zOkkv"
      },
      "execution_count": null,
      "outputs": []
    },
    {
      "cell_type": "code",
      "source": [
        "numericals = ['SIO2(WT%)', 'TIO2(WT%)', 'AL2O3(WT%)', 'FEO(WT%)', 'CAO(WT%)',\n",
        "       'MGO(WT%)', 'MNO(WT%)', 'K2O(WT%)', 'NA2O(WT%)', 'P2O5(WT%)', 'LI(PPM)',\n",
        "       'BE(PPM)', 'B(PPM)', 'F(PPM)', 'CL(PPM)', 'SC(PPM)',\n",
        "       'TI(PPM)', 'V(PPM)', 'CR(PPM)', 'CO(PPM)', 'NI(PPM)', 'CU(PPM)',\n",
        "       'ZN(PPM)', 'GA(PPM)', 'GE(PPM)', 'AS(PPM)', 'SE(PPM)',\n",
        "       'RB(PPM)', 'SR(PPM)', 'Y(PPM)', 'ZR(PPM)', 'NB(PPM)', 'MO(PPM)',\n",
        "       'AG(PPM)', 'CD(PPM)', 'IN(PPM)', 'SN(PPM)', 'SB(PPM)', 'TE(PPM)',\n",
        "       'CS(PPM)', 'BA(PPM)', 'LA(PPM)', 'CE(PPM)', 'PR(PPM)', 'ND(PPM)',\n",
        "       'SM(PPM)', 'EU(PPM)', 'GD(PPM)', 'TB(PPM)', 'DY(PPM)', 'HO(PPM)',\n",
        "       'ER(PPM)', 'TM(PPM)', 'YB(PPM)', 'LU(PPM)', 'HF(PPM)', 'TA(PPM)',\n",
        "       'W(PPM)', 'AU(PPM)', 'HG(PPM)', 'TL(PPM)', 'PB(PPM)', 'BI(PPM)',\n",
        "       'TH(PPM)', 'U(PPM)', 'LATITUDE (MIN.)', 'LATITUDE (MAX.)',\n",
        "       'LONGITUDE (MIN.)', 'LONGITUDE (MAX.)', 'ELEVATION (MIN.)',\n",
        "       'ELEVATION (MAX.)', 'DRILLING DEPTH (MIN.)', 'DRILLING DEPTH (MAX.)' ]"
      ],
      "metadata": {
        "id": "Q2HwzjjdHHCi"
      },
      "execution_count": null,
      "outputs": []
    },
    {
      "cell_type": "code",
      "source": [
        "from sklearn.impute import KNNImputer\n",
        "\n",
        "# Instantiate the KNN imputer\n",
        "imputer = KNNImputer(n_neighbors=5)  # You can adjust the number of neighbors if needed\n",
        "\n",
        "# Perform KNN imputation on the selected numerical columns\n",
        "df[numericals] = imputer.fit_transform(df[numericals])\n"
      ],
      "metadata": {
        "id": "OSqXqT2M8MF8"
      },
      "execution_count": null,
      "outputs": []
    },
    {
      "cell_type": "markdown",
      "source": [
        "####################################################################################\n",
        "# EDA BEGINS HERE"
      ],
      "metadata": {
        "id": "UtlKtYrbB1OR"
      }
    },
    {
      "cell_type": "markdown",
      "source": [
        "### Ideas\n",
        "\n",
        "Lithium Concentration is the dependant variable. It is our primary interest and so we should perform this EDA around that.\n",
        "\n",
        "* Lithium against Major elements\n",
        "* Lithium against trace elements"
      ],
      "metadata": {
        "id": "quzzBH2nJA21"
      }
    },
    {
      "cell_type": "code",
      "source": [
        "Major1 = ['SIO2(WT%)', 'TIO2(WT%)', 'AL2O3(WT%)', 'FEO(WT%)',\n",
        "         'MNO(WT%)', 'MGO(WT%)', 'CAO(WT%)', 'NA2O(WT%)',\n",
        "         'K2O(WT%)', 'P2O5(WT%)', 'LI(PPM)']\n",
        "\n",
        "Major = ['SIO2(WT%)', 'TIO2(WT%)', 'AL2O3(WT%)', 'FEO(WT%)',\n",
        "         'MNO(WT%)', 'MGO(WT%)', 'CAO(WT%)', 'NA2O(WT%)',\n",
        "         'K2O(WT%)', 'P2O5(WT%)']\n",
        "\n",
        "Trace1 = ['LI(PPM)',\n",
        " 'F(PPM)','CL(PPM)','SC(PPM)','TI(PPM)','V(PPM)',\n",
        " 'CR(PPM)', 'CO(PPM)', 'NI(PPM)', 'CU(PPM)', 'ZN(PPM)', 'GA(PPM)',\n",
        "'RB(PPM)', 'SR(PPM)',\n",
        " 'Y(PPM)', 'ZR(PPM)', 'NB(PPM)', 'MO(PPM)', 'SN(PPM)',\n",
        "  'CS(PPM)', 'BA(PPM)',\n",
        " 'LA(PPM)', 'CE(PPM)', 'PR(PPM)', 'ND(PPM)', 'SM(PPM)', 'EU(PPM)',\n",
        " 'GD(PPM)', 'TB(PPM)', 'DY(PPM)', 'HO(PPM)', 'ER(PPM)', 'TM(PPM)',\n",
        " 'YB(PPM)', 'LU(PPM)', 'HF(PPM)', 'TA(PPM)', 'W(PPM)',\n",
        "         'PB(PPM)', 'TH(PPM)', 'U(PPM)']\n",
        "\n",
        "Trace = ['F(PPM)','CL(PPM)','SC(PPM)','TI(PPM)','V(PPM)',\n",
        " 'CR(PPM)', 'CO(PPM)', 'NI(PPM)', 'CU(PPM)', 'ZN(PPM)', 'GA(PPM)',\n",
        "'RB(PPM)', 'SR(PPM)',\n",
        " 'Y(PPM)', 'ZR(PPM)', 'NB(PPM)', 'MO(PPM)', 'SN(PPM)',\n",
        "  'CS(PPM)', 'BA(PPM)',\n",
        " 'LA(PPM)', 'CE(PPM)', 'PR(PPM)', 'ND(PPM)', 'SM(PPM)', 'EU(PPM)',\n",
        " 'GD(PPM)', 'TB(PPM)', 'DY(PPM)', 'HO(PPM)', 'ER(PPM)', 'TM(PPM)',\n",
        " 'YB(PPM)', 'LU(PPM)', 'HF(PPM)', 'TA(PPM)', 'W(PPM)',\n",
        "         'PB(PPM)', 'TH(PPM)', 'U(PPM)']"
      ],
      "metadata": {
        "id": "UKYPJ1a1B8ed"
      },
      "execution_count": null,
      "outputs": []
    },
    {
      "cell_type": "markdown",
      "source": [
        "## MAJOR"
      ],
      "metadata": {
        "id": "EMHzPa84A1Ti"
      }
    },
    {
      "cell_type": "code",
      "source": [
        "# Major elements distribution examination\n",
        "sns.set(style='whitegrid', palette='Set1')\n",
        "plt.figure(figsize=(15, 6))\n",
        "for i, feature in enumerate(Major):\n",
        "    plt.subplot(2, 6, i+1)\n",
        "    sns.histplot(df[feature], kde=True)\n",
        "    plt.title(feature)\n",
        "plt.tight_layout()\n",
        "plt.savefig('MajorDense.png')\n",
        "plt.show()"
      ],
      "metadata": {
        "id": "lBBnnWLA9c9C"
      },
      "execution_count": null,
      "outputs": []
    },
    {
      "cell_type": "code",
      "source": [
        "# Plot correlation heatmap for 'Major' category\n",
        "plt.figure(figsize=(10, 8))\n",
        "corr_major = df[Major1].corr()\n",
        "sns.heatmap(corr_major, annot=True, cmap='coolwarm', fmt=\".2f\", linewidths=0.5)\n",
        "plt.title(\"Correlation Heatmap - Major Elements\")\n",
        "plt.tight_layout()\n",
        "plt.savefig('MajorCorr.png')\n",
        "plt.show()"
      ],
      "metadata": {
        "id": "3LB-LTF79vGF"
      },
      "execution_count": null,
      "outputs": []
    },
    {
      "cell_type": "code",
      "source": [
        "# Plot pair plots for selected features in 'Major' category\n",
        "sns.pairplot(df[Major], diag_kind='kde')\n",
        "# plt.suptitle(\"Pair Plots - Major Elements\", y=1.02)\n",
        "plt.title('Pair Plot - Trace Elements')\n",
        "plt.tight_layout()\n",
        "plt.savefig('MajorPair.png')\n",
        "plt.show()"
      ],
      "metadata": {
        "id": "s4sQmjfX-Ctd"
      },
      "execution_count": null,
      "outputs": []
    },
    {
      "cell_type": "code",
      "source": [
        "import pandas as pd\n",
        "import numpy as np\n",
        "from sklearn.ensemble import RandomForestRegressor\n",
        "import matplotlib.pyplot as plt\n",
        "\n",
        "# Assuming 'df' is your DataFrame and you want to predict 'LI(PPM)'\n",
        "X = df[Major1].drop('LI(PPM)', axis=1)  # input features\n",
        "y = df['LI(PPM)']  # target variable\n",
        "\n",
        "# Create a random forest regressor\n",
        "rf = RandomForestRegressor(n_estimators=100, random_state=42)\n",
        "\n",
        "# Train the regressor\n",
        "rf.fit(X, y)\n",
        "\n",
        "# Get feature importances\n",
        "importances = rf.feature_importances_\n",
        "\n",
        "# Sort the features by importance\n",
        "sorted_indices = np.argsort(importances)[::-1]\n",
        "\n",
        "# Create a DataFrame for the sorted feature importances\n",
        "feature_ranking_df = pd.DataFrame({\n",
        "    'Feature': X.columns[sorted_indices],\n",
        "    'Importance': importances[sorted_indices]\n",
        "})\n",
        "\n",
        "# Plotting the horizontal bar chart for feature importances\n",
        "plt.figure(figsize=(10, 10))  # You can adjust the size as per your needs\n",
        "plt.barh(feature_ranking_df['Feature'], feature_ranking_df['Importance'], color='skyblue')\n",
        "plt.xlabel('Importance')\n",
        "plt.ylabel('Feature')\n",
        "plt.title('Feature Importance - Major Elements')\n",
        "plt.gca().invert_yaxis()  # To display the most important features at the top\n",
        "\n",
        "# Display importance values at the end of each bar\n",
        "for index, value in enumerate(feature_ranking_df['Importance']):\n",
        "    plt.text(value, index, f'{value:.3f}')  # Displaying values rounded to 3 decimal places\n",
        "\n",
        "plt.tight_layout()\n",
        "plt.savefig('MajorImportance.png')\n",
        "plt.show()\n"
      ],
      "metadata": {
        "id": "lZWPkAoyAzSe"
      },
      "execution_count": null,
      "outputs": []
    },
    {
      "cell_type": "code",
      "source": [
        "# Set the default color palette for seaborn\n",
        "sns.set_palette(['red'])\n",
        "\n",
        "# Select the top N features\n",
        "N = 5  # for example\n",
        "selected_features = [X.columns[i] for i in sorted_indices[:N]]\n",
        "\n",
        "# Now you can create a pair plot with the selected features\n",
        "sns.pairplot(df[selected_features], diag_kind='kde')\n",
        "plt.suptitle('Pair Plot - Major Elements', y=1.02)\n",
        "plt.tight_layout()\n",
        "plt.savefig('MajorPair.png', bbox_inches='tight')\n",
        "plt.show()\n",
        "\n",
        "# Reset the palette if needed\n",
        "sns.set_palette('deep')  # 'deep' is the default seaborn palette"
      ],
      "metadata": {
        "id": "Ds5hE_CABmia"
      },
      "execution_count": null,
      "outputs": []
    },
    {
      "cell_type": "markdown",
      "source": [
        "## TRACE"
      ],
      "metadata": {
        "id": "MdiYCaAMA5EK"
      }
    },
    {
      "cell_type": "code",
      "source": [
        "import pandas as pd\n",
        "import numpy as np\n",
        "from sklearn.ensemble import RandomForestRegressor\n",
        "import matplotlib.pyplot as plt\n",
        "\n",
        "# Assuming 'df' is your DataFrame and you want to predict 'LI(PPM)'\n",
        "X = df[Trace1].drop('LI(PPM)', axis=1)  # input features\n",
        "y = df['LI(PPM)']  # target variable\n",
        "\n",
        "# Create a random forest regressor\n",
        "rf = RandomForestRegressor(n_estimators=100, random_state=42)\n",
        "\n",
        "# Train the regressor\n",
        "rf.fit(X, y)\n",
        "\n",
        "# Get feature importances\n",
        "importances = rf.feature_importances_\n",
        "\n",
        "# Sort the features by importance\n",
        "sorted_indices = np.argsort(importances)[::-1]\n",
        "\n",
        "# Create a DataFrame for the sorted feature importances\n",
        "feature_ranking_df = pd.DataFrame({\n",
        "    'Feature': X.columns[sorted_indices],\n",
        "    'Importance': importances[sorted_indices]\n",
        "})\n",
        "\n",
        "# Plotting the horizontal bar chart for feature importances\n",
        "plt.figure(figsize=(10, 10))  # You can adjust the size as per your needs\n",
        "plt.barh(feature_ranking_df['Feature'], feature_ranking_df['Importance'], color='skyblue')\n",
        "plt.xlabel('Importance')\n",
        "plt.ylabel('Feature')\n",
        "plt.title('Feature Importance - Trace Elements')\n",
        "plt.gca().invert_yaxis()  # To display the most important features at the top\n",
        "\n",
        "# Display importance values at the end of each bar\n",
        "for index, value in enumerate(feature_ranking_df['Importance']):\n",
        "    plt.text(value, index, f'{value:.3f}')  # Displaying values rounded to 3 decimal places\n",
        "\n",
        "plt.tight_layout()\n",
        "plt.savefig('TraceImportance.png')\n",
        "plt.show()\n"
      ],
      "metadata": {
        "id": "oA9iXwkdFlHw"
      },
      "execution_count": null,
      "outputs": []
    },
    {
      "cell_type": "code",
      "source": [
        "# Select the top N features\n",
        "N_trace = 10\n",
        "selected_features_trace = feature_ranking_df['Feature'][:N_trace].tolist()\n",
        "\n",
        "N_trace5 = 5\n",
        "selected_features_trace5 = feature_ranking_df['Feature'][:N_trace5].tolist()"
      ],
      "metadata": {
        "id": "uAlJpblfckar"
      },
      "execution_count": null,
      "outputs": []
    },
    {
      "cell_type": "code",
      "source": [
        "sns.pairplot(df[selected_features_trace5], diag_kind='kde')\n",
        "plt.suptitle('Pair Plot - Trace Elements', y=1.02)\n",
        "plt.tight_layout()\n",
        "plt.savefig('TracePair.png', bbox_inches='tight')  # This should prevent cropping\n",
        "plt.show()"
      ],
      "metadata": {
        "id": "6ypBDZnkHb7d"
      },
      "execution_count": null,
      "outputs": []
    },
    {
      "cell_type": "code",
      "source": [
        "# Major elements distribution examination\n",
        "sns.set(style='whitegrid', palette='Set1')\n",
        "plt.figure(figsize=(15, 6))\n",
        "for i, feature in enumerate(selected_features_trace):\n",
        "    plt.subplot(2, 6, i+1)\n",
        "    sns.histplot(df[feature], kde=True)\n",
        "    plt.title(feature)\n",
        "plt.tight_layout()\n",
        "plt.savefig('TraceDense.png')\n",
        "plt.show()"
      ],
      "metadata": {
        "id": "Qf4Gumswai40"
      },
      "execution_count": null,
      "outputs": []
    },
    {
      "cell_type": "code",
      "source": [
        "# plt.figure(figsize=(15, 10))\n",
        "# for i, feature in enumerate(selected_features_trace):\n",
        "#     plt.subplot(N_trace, 1, i+1)\n",
        "#     sns.histplot(df[feature], kde=True)\n",
        "#     plt.title(feature)\n",
        "# plt.tight_layout()\n",
        "# plt.\n",
        "# plt.show()"
      ],
      "metadata": {
        "id": "wIdwgDz4H2PN"
      },
      "execution_count": null,
      "outputs": []
    },
    {
      "cell_type": "code",
      "source": [
        "# Add 'LI(PPM)' to the list of selected features\n",
        "selected_features_trace_with_LI = selected_features_trace + ['LI(PPM)']\n",
        "\n",
        "# Calculate correlation matrix for the selected features including 'LI(PPM)'\n",
        "corr_trace_selected = df[selected_features_trace_with_LI].corr()\n",
        "\n",
        "plt.figure(figsize=(10, 8))\n",
        "sns.heatmap(corr_trace_selected, annot=True, cmap='coolwarm', fmt=\".2f\", linewidths=0.5)\n",
        "plt.title(\"Correlation Heatmap - Selected Trace Elements including LI(PPM)\")\n",
        "plt.tight_layout()\n",
        "plt.savefig('TraceCorr.png')\n",
        "plt.show()\n"
      ],
      "metadata": {
        "id": "E4ISBu5sH4Qe"
      },
      "execution_count": null,
      "outputs": []
    },
    {
      "cell_type": "markdown",
      "source": [
        "## CATEGORICAL"
      ],
      "metadata": {
        "id": "smEpiHB7DlGe"
      }
    },
    {
      "cell_type": "code",
      "source": [
        "Categorical = ['TECTONIC SETTING', 'LOCATION',\n",
        "'LAND/SEA (SAMPLING)', 'ROCK NAME', 'MINERAL',\n",
        "'PRIMARY/SECONDARY']\n",
        "\n",
        "#'CRYSTAL', 'RIM/CORE (MINERAL GRAINS)','ROCK TEXTURE','ALTERATION',\n",
        "#'LOCATION COMMENT','SPOT',"
      ],
      "metadata": {
        "id": "LKMndCa4KMp0"
      },
      "execution_count": null,
      "outputs": []
    },
    {
      "cell_type": "markdown",
      "source": [
        "* Crystal and Rim/Core have too many NAN values"
      ],
      "metadata": {
        "id": "TG9goMVGGvWC"
      }
    },
    {
      "cell_type": "code",
      "source": [
        "df[Categorical].isnull().sum()"
      ],
      "metadata": {
        "id": "PUG7JZ57KNxF"
      },
      "execution_count": null,
      "outputs": []
    },
    {
      "cell_type": "code",
      "source": [
        "# import scipy.stats as stats\n",
        "\n",
        "# def eta_squared(categorical, continuous):\n",
        "#     categories = categorical.unique()\n",
        "#     N = len(continuous)\n",
        "#     ss_total = np.sum((continuous - np.mean(continuous))**2)\n",
        "\n",
        "#     sum_sq_bw = sum([len(continuous[categorical == cat]) * (np.mean(continuous[categorical == cat]) - np.mean(continuous))**2\n",
        "#                      for cat in categories])\n",
        "#     return sum_sq_bw / ss_total\n",
        "\n",
        "# # Compute the eta squared statistic for each categorical variable with respect to LI(PPM)\n",
        "# eta2_values = [eta_squared(df[cat], df['LI(PPM)']) for cat in Categorical]\n",
        "\n",
        "# # Display the results\n",
        "# for cat, value in zip(Categorical, eta2_values):\n",
        "#     print(f\"{cat}: {value:.4f}\")\n",
        "# plt.figure(figsize=(10, 5))\n",
        "# sns.barplot(Categorical, eta2_values, palette=\"coolwarm\")\n",
        "# plt.xticks(rotation=45)\n",
        "# plt.ylabel(\"$\\eta^2$ value\")\n",
        "# plt.title(\"$\\eta^2$ values for Categorical Variables with respect to LI(PPM)\")\n",
        "# plt.tight_layout()\n",
        "# plt.show()\n"
      ],
      "metadata": {
        "id": "b89NPJW9iZU6"
      },
      "execution_count": null,
      "outputs": []
    },
    {
      "cell_type": "code",
      "source": [
        "# Compute the Cramer's V statistic for each pair of categorical variables\n",
        "v_matrix = np.zeros((len(Categorical), len(Categorical)))\n",
        "for i, col1 in enumerate(Categorical):\n",
        "    for j, col2 in enumerate(Categorical):\n",
        "        if i == j:\n",
        "            continue\n",
        "        confusion_matrix = pd.crosstab(df[col1], df[col2])\n",
        "        chi2, p, dof, expected = chi2_contingency(confusion_matrix)\n",
        "        n = confusion_matrix.sum().sum()\n",
        "        phi = np.sqrt(chi2/n)\n",
        "        k = min(confusion_matrix.shape[0], confusion_matrix.shape[1])\n",
        "        v = np.sqrt(phi/(k-1))\n",
        "        v_matrix[i, j] = v\n",
        "\n",
        "# Create a heatmap to visualize the Cramer's V matrix\n",
        "plt.figure(figsize=(10, 8))\n",
        "sns.heatmap(v_matrix, xticklabels=Categorical, yticklabels=Categorical, annot=True, cmap='coolwarm', fmt=\".2f\", linewidths=0.5)\n",
        "plt.title(\"Cramer's V Heatmap for Categorical Variables\")\n",
        "plt.tight_layout()\n",
        "plt.savefig('CateHeat')\n",
        "plt.show()\n"
      ],
      "metadata": {
        "id": "9avIogePJ50g"
      },
      "execution_count": null,
      "outputs": []
    },
    {
      "cell_type": "code",
      "source": [
        "plt.figure(figsize=(8, 6))\n",
        "sns.countplot(data=df, x='TECTONIC SETTING', palette='Set2')\n",
        "plt.xticks(rotation=90)\n",
        "plt.title('Count Plot - Tectonic Setting')\n",
        "plt.tight_layout()\n",
        "plt.savefig('TectonicCount.png')\n",
        "plt.show()"
      ],
      "metadata": {
        "id": "LHofCxaVLmfL"
      },
      "execution_count": null,
      "outputs": []
    },
    {
      "cell_type": "code",
      "source": [
        "plt.figure(figsize=(8, 6))\n",
        "sns.countplot(data=df, x='LOCATION', palette='Set2')\n",
        "plt.xticks(rotation=90)\n",
        "plt.title('Count Plot - Location')\n",
        "plt.tight_layout()\n",
        "plt.savefig('LocationCount.png')\n",
        "plt.show()"
      ],
      "metadata": {
        "id": "quhz6p0YJ5Y5"
      },
      "execution_count": null,
      "outputs": []
    },
    {
      "cell_type": "code",
      "source": [
        "plt.figure(figsize=(7.5, 6))\n",
        "sns.countplot(data=df, x='LAND/SEA (SAMPLING)', palette='Set2')\n",
        "plt.xticks(rotation=90)\n",
        "plt.title('Count Plot - Land/Sea (Sampling)')\n",
        "plt.tight_layout()\n",
        "plt.savefig('LandSeaCount.png')\n",
        "plt.show()"
      ],
      "metadata": {
        "id": "G6ydMGd4MHUv"
      },
      "execution_count": null,
      "outputs": []
    },
    {
      "cell_type": "code",
      "source": [
        "# # !pip install squarify\n",
        "# import squarify\n",
        "\n",
        "# rock_name_counts = df['ROCK NAME'].value_counts()\n",
        "# labels = rock_name_counts.index\n",
        "# sizes = rock_name_counts.values\n",
        "\n",
        "# plt.figure(figsize=(15, 10))\n",
        "# squarify.plot(sizes=sizes, label=labels, alpha=0.6, color=sns.color_palette(\"Set2\", len(sizes)))\n",
        "# plt.title('Tree Map of ROCK NAME Categories')\n",
        "# plt.axis('off')\n",
        "# plt.show()\n"
      ],
      "metadata": {
        "id": "0ss08dUYLa0A"
      },
      "execution_count": null,
      "outputs": []
    },
    {
      "cell_type": "code",
      "source": [
        "plt.figure(figsize=(15, 6))\n",
        "\n",
        "plt.subplot(1, 2, 1)\n",
        "sns.countplot(data=df, x='MINERAL', palette='Set2')\n",
        "plt.xticks(rotation=90)\n",
        "plt.title('MINERAL')\n",
        "\n",
        "plt.subplot(1, 2, 2)\n",
        "sns.countplot(data=df, x='PRIMARY/SECONDARY', palette='Set2')\n",
        "plt.xticks(rotation=90)\n",
        "plt.title('PRIMARY/SECONDARY')\n",
        "\n",
        "plt.tight_layout()\n",
        "plt.savefig('PrimaryXMineralCount.png')\n",
        "plt.show()\n"
      ],
      "metadata": {
        "id": "7OFci-7SMSss"
      },
      "execution_count": null,
      "outputs": []
    },
    {
      "cell_type": "markdown",
      "source": [
        "######################################################\n",
        "\n",
        "# PRINCIPLE COMPONENT ANALYSIS"
      ],
      "metadata": {
        "id": "D-C9Qw1neb-2"
      }
    },
    {
      "cell_type": "code",
      "source": [
        "Trace = ['F(PPM)','CL(PPM)','SC(PPM)','TI(PPM)','V(PPM)',\n",
        " 'CR(PPM)', 'CO(PPM)', 'NI(PPM)', 'CU(PPM)', 'ZN(PPM)', 'GA(PPM)',\n",
        "'RB(PPM)', 'SR(PPM)',\n",
        " 'Y(PPM)', 'ZR(PPM)', 'NB(PPM)', 'MO(PPM)', 'SN(PPM)',\n",
        "  'CS(PPM)', 'BA(PPM)',\n",
        " 'LA(PPM)', 'CE(PPM)', 'PR(PPM)', 'ND(PPM)', 'SM(PPM)', 'EU(PPM)',\n",
        " 'GD(PPM)', 'TB(PPM)', 'DY(PPM)', 'HO(PPM)', 'ER(PPM)', 'TM(PPM)',\n",
        " 'YB(PPM)', 'LU(PPM)', 'HF(PPM)', 'TA(PPM)', 'W(PPM)',\n",
        "         'PB(PPM)', 'TH(PPM)', 'U(PPM)']\n",
        "\n",
        "Major = ['SIO2(WT%)', 'TIO2(WT%)', 'AL2O3(WT%)', 'FEO(WT%)',\n",
        "         'MNO(WT%)', 'MGO(WT%)', 'CAO(WT%)', 'NA2O(WT%)',\n",
        "         'K2O(WT%)', 'P2O5(WT%)']"
      ],
      "metadata": {
        "id": "7Homwu4fn0zL"
      },
      "execution_count": null,
      "outputs": []
    },
    {
      "cell_type": "code",
      "source": [
        "all_features = Major + Trace\n",
        "\n",
        "# Extract the relevant columns from the DataFrame\n",
        "df_subset = df[all_features]"
      ],
      "metadata": {
        "id": "ufT9oEZ1mdGh"
      },
      "execution_count": null,
      "outputs": []
    },
    {
      "cell_type": "code",
      "source": [
        "# 1. Standardize the data\n",
        "scaler = StandardScaler()\n",
        "scaled_data = scaler.fit_transform(df_subset)\n",
        "\n",
        "# 2. Perform PCA\n",
        "pca = PCA()\n",
        "principal_components = pca.fit_transform(scaled_data)\n",
        "\n",
        "# Convert PCA results to a DataFrame\n",
        "pca_df = pd.DataFrame(data=principal_components)\n",
        "\n",
        "# 3. Visualize explained variance\n",
        "explained_variance = pca.explained_variance_ratio_\n",
        "cumulative_variance = explained_variance.cumsum()\n",
        "\n",
        "plt.figure(figsize=(10, 5))\n",
        "\n",
        "plt.bar(range(len(explained_variance)), explained_variance, alpha=0.5, label='Explained Variance by Component')\n",
        "plt.plot(range(len(cumulative_variance)), cumulative_variance, marker='o', color='red', label='Cumulative Explained Variance')\n",
        "\n",
        "plt.title('Explained Variance by Principal Component')\n",
        "plt.xlabel('Principal Component')\n",
        "plt.ylabel('Variance Explained')\n",
        "plt.legend()\n",
        "plt.tight_layout()\n",
        "plt.savefig('PCAScree.png')\n",
        "plt.show()\n"
      ],
      "metadata": {
        "id": "x6TdaNOHeKnd"
      },
      "execution_count": null,
      "outputs": []
    },
    {
      "cell_type": "code",
      "source": [
        "# Extracting components for 85% explained variance:\n",
        "num_components = np.argmax(cumulative_variance > 0.85) + 1\n",
        "print(f\"The number of components needed to explain 85% of the variance is: {num_components}\")\n",
        "\n",
        "# Extracting and inspecting those components:\n",
        "important_components_df = pca_df.iloc[:, :num_components]\n",
        "print(important_components_df)"
      ],
      "metadata": {
        "id": "u-QMlon-o6ry"
      },
      "execution_count": null,
      "outputs": []
    },
    {
      "cell_type": "code",
      "source": [
        "# Split the dataset into training and testing sets\n",
        "X = df_subset  # Your features\n",
        "y = df['LI(PPM)']  # Your dependent variable\n",
        "\n",
        "X_train, X_test, y_train, y_test = train_test_split(X, y, test_size=0.3, random_state=42)\n",
        "\n",
        "# Baseline model (You can choose another if desired)\n",
        "model = LinearRegression()\n",
        "\n",
        "performance_record = {}\n",
        "\n",
        "# Test for each number of components\n",
        "for num in range(1, len(explained_variance) + 1):\n",
        "    # Applying PCA transformation\n",
        "    pca = PCA(n_components=num)\n",
        "    X_train_pca = pca.fit_transform(X_train)\n",
        "    X_test_pca = pca.transform(X_test)\n",
        "\n",
        "    # Train and predict\n",
        "    model.fit(X_train_pca, y_train)\n",
        "    predictions = model.predict(X_test_pca)\n",
        "\n",
        "    # Evaluate the performance (using Mean Squared Error here, you can choose another metric if desired)\n",
        "    mse = mean_squared_error(y_test, predictions)\n",
        "\n",
        "    performance_record[num] = mse\n",
        "\n",
        "# Find the number of components with the best performance (lowest MSE)\n",
        "best_num_components = min(performance_record, key=performance_record.get)\n",
        "print(f\"Best number of components is: {best_num_components} with MSE: {performance_record[best_num_components]}\")\n"
      ],
      "metadata": {
        "id": "dJTnxH9Gp9PW"
      },
      "execution_count": null,
      "outputs": []
    },
    {
      "cell_type": "code",
      "source": [
        "import numpy as np\n",
        "import pandas as pd\n",
        "from sklearn.preprocessing import PolynomialFeatures, StandardScaler\n",
        "from sklearn.decomposition import PCA\n",
        "from sklearn.linear_model import LinearRegression\n",
        "from sklearn.metrics import mean_squared_error\n",
        "from sklearn.model_selection import train_test_split\n",
        "\n",
        "# Split the dataset into training and testing sets\n",
        "X = df_subset\n",
        "y = df['LI(PPM)']\n",
        "X_train, X_test, y_train, y_test = train_test_split(X, y, test_size=0.3, random_state=42)\n",
        "\n",
        "# Linear Regression with PCA\n",
        "linear_reg_performance = {}\n",
        "for num in range(1, len(explained_variance) + 1):\n",
        "    pca = PCA(n_components=num)\n",
        "    X_train_pca = pca.fit_transform(X_train)\n",
        "    X_test_pca = pca.transform(X_test)\n",
        "\n",
        "    model = LinearRegression()\n",
        "    model.fit(X_train_pca, y_train)\n",
        "    predictions = model.predict(X_test_pca)\n",
        "\n",
        "    mse = mean_squared_error(y_test, predictions)\n",
        "    linear_reg_performance[num] = mse\n",
        "\n",
        "best_linear_components = min(linear_reg_performance, key=linear_reg_performance.get)\n",
        "\n",
        "# Polynomial Regression\n",
        "degree = 2\n",
        "poly_features = PolynomialFeatures(degree=degree, include_bias=False)\n",
        "X_train_poly = poly_features.fit_transform(X_train)\n",
        "X_test_poly = poly_features.transform(X_test)\n",
        "\n",
        "poly_reg_performance = {}\n",
        "for n in range(1, 51):  # Assuming 50 components\n",
        "    model = LinearRegression()\n",
        "    model.fit(X_train_poly[:, :n], y_train)\n",
        "    predictions = model.predict(X_test_poly[:, :n])\n",
        "    mse = mean_squared_error(y_test, predictions)\n",
        "    poly_reg_performance[n] = mse\n",
        "\n",
        "best_poly_components = min(poly_reg_performance, key=poly_reg_performance.get)\n",
        "\n",
        "# Display results in a table using pandas DataFrame\n",
        "results_df = pd.DataFrame({\n",
        "    'Model': ['Linear Regression', 'Polynomial Regression'],\n",
        "    'Best no. of components': [best_linear_components, best_poly_components],\n",
        "    'MSE': [linear_reg_performance[best_linear_components], poly_reg_performance[best_poly_components]]\n",
        "})\n",
        "\n",
        "print(results_df)\n"
      ],
      "metadata": {
        "id": "kP4o_YIRswja"
      },
      "execution_count": null,
      "outputs": []
    }
  ]
}